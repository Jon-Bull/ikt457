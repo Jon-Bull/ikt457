{
 "cells": [
  {
   "cell_type": "markdown",
   "metadata": {},
   "source": [
    "## Notebook Setup"
   ]
  },
  {
   "cell_type": "markdown",
   "metadata": {},
   "source": [
    "### Imports"
   ]
  },
  {
   "cell_type": "code",
   "execution_count": 1,
   "metadata": {},
   "outputs": [],
   "source": [
    "from ikt457.src.common_imports import *\n",
    "from ikt457.src.config import get_paths\n",
    "import random\n",
    "import matplotlib.animation as animation\n",
    "from IPython.display import display, HTML"
   ]
  },
  {
   "cell_type": "markdown",
   "metadata": {},
   "source": [
    "### Classes"
   ]
  },
  {
   "cell_type": "markdown",
   "metadata": {},
   "source": [
    "#### Environment"
   ]
  },
  {
   "cell_type": "code",
   "execution_count": 2,
   "metadata": {},
   "outputs": [],
   "source": [
    "class Environment:\n",
    "    def __init__(self, c_1, c_2):\n",
    "        self.c_1 = c_1\n",
    "        self.c_2 = c_2\n",
    "        \n",
    "    def reward_probability(self, M):\n",
    "        if M <= 3:\n",
    "            return M * self.c_1\n",
    "        else:\n",
    "            return self.c_2 - (M - 3) * self.c_1"
   ]
  },
  {
   "cell_type": "markdown",
   "metadata": {},
   "source": [
    "#### Tsetlin"
   ]
  },
  {
   "cell_type": "code",
   "execution_count": 3,
   "metadata": {},
   "outputs": [],
   "source": [
    "class Tsetlin:\n",
    "    def __init__(self, n):\n",
    "        self.n = n\n",
    "        self.state = random.choice([self.n, self.n+1])\n",
    "\n",
    "    def reward(self):\n",
    "        if self.state <= self.n and self.state > 1:\n",
    "            self.state -= 1\n",
    "        elif self.state > self.n and self.state < 2*self.n:\n",
    "            self.state += 1\n",
    "\n",
    "    def penalize(self):\n",
    "        if self.state <= self.n:\n",
    "            self.state += 1\n",
    "        elif self.state > self.n:\n",
    "            self.state -= 1\n",
    "\n",
    "    def makeDecision(self):\n",
    "        return \"Yes\" if self.state <= self.n else \"No\""
   ]
  },
  {
   "cell_type": "markdown",
   "metadata": {},
   "source": [
    "### Functions"
   ]
  },
  {
   "cell_type": "markdown",
   "metadata": {},
   "source": [
    "#### Save and link plot"
   ]
  },
  {
   "cell_type": "code",
   "execution_count": 4,
   "metadata": {},
   "outputs": [],
   "source": [
    "def save_and_link_plot(plt, filename):\n",
    "    # Save the plot\n",
    "    plt.savefig(filename)\n",
    "    plt.clf()  # Clear the current figure to avoid showing it in the notebook\n",
    "    \n",
    "    # Create a clickable link to the plot\n",
    "    link = f'<a href=\"{filename}\" target=\"_blank\">Click here to view the plot: {filename}</a>'\n",
    "    display(HTML(link))"
   ]
  },
  {
   "cell_type": "markdown",
   "metadata": {},
   "source": [
    "#### Save and link gif"
   ]
  },
  {
   "cell_type": "code",
   "execution_count": 5,
   "metadata": {},
   "outputs": [],
   "source": [
    "def save_and_link_gif(animation, filename, writer='pillow', fps=10):\n",
    "    # Save the GIF\n",
    "    animation.save(filename, writer=writer, fps=fps)\n",
    "    \n",
    "    # Close the figure to prevent it from displaying in the notebook\n",
    "    plt.close(animation._fig)\n",
    "    \n",
    "    # Create a clickable link to the GIF\n",
    "    link = f'<a href=\"{filename}\" target=\"_blank\">Click here to view the GIF: {filename}</a>'\n",
    "    display(HTML(link))"
   ]
  },
  {
   "cell_type": "markdown",
   "metadata": {},
   "source": [
    "### Global Variables"
   ]
  },
  {
   "cell_type": "markdown",
   "metadata": {},
   "source": [
    "#### Paths"
   ]
  },
  {
   "cell_type": "code",
   "execution_count": 6,
   "metadata": {},
   "outputs": [],
   "source": [
    "paths = get_paths()"
   ]
  },
  {
   "cell_type": "markdown",
   "metadata": {},
   "source": [
    "#### Other"
   ]
  },
  {
   "cell_type": "code",
   "execution_count": 7,
   "metadata": {},
   "outputs": [],
   "source": [
    "c_1 = 0.2\n",
    "c_2 = 0.6\n",
    "n_states = 3\n",
    "n_ta = 5\n",
    "n_iterations = 300\n",
    "\n",
    "VERBOSE = False"
   ]
  },
  {
   "cell_type": "markdown",
   "metadata": {},
   "source": [
    "## Task"
   ]
  },
  {
   "cell_type": "code",
   "execution_count": 8,
   "metadata": {},
   "outputs": [],
   "source": [
    "# Step 0: Initialize the environment\n",
    "env = Environment(c_1, c_2)\n",
    "\n",
    "# Step 1: Create 5 Tsetlin Automata\n",
    "automata = [Tsetlin(n_states) for _ in range(n_ta)]\n",
    "\n",
    "# Track the states over time\n",
    "states_over_time = []\n",
    "\n",
    "# Track the number of \"Yes\" actions for each automaton over time\n",
    "yes_counts_over_time = []\n",
    "\n",
    "# Track the number of \"Yes\" actions for each automaton\n",
    "yes_counts = [0] * n_ta\n",
    "\n",
    "for i in range(n_iterations):\n",
    "    # Count the number of \"Yes\" actions\n",
    "    for index, automaton in enumerate(automata):\n",
    "        if automaton.makeDecision() == \"Yes\":\n",
    "            yes_counts[index] += 1\n",
    "    \n",
    "    # Store the current yes_counts for this iteration\n",
    "    yes_counts_over_time.append(yes_counts.copy())\n",
    "    \n",
    "    # Step 2: Count the number of \"Yes\" actions\n",
    "    yes_count = sum(1 for automaton in automata if automaton.makeDecision() == \"Yes\")\n",
    "    \n",
    "    # Print out the states or actions to observe the process\n",
    "    actions = [automaton.makeDecision() for automaton in automata]\n",
    "    states = [automaton.state for automaton in automata]\n",
    "    if VERBOSE:\n",
    "        print(f\"{actions} | {yes_count} Yes | {states}\")\n",
    "        \n",
    "    # Step 3: Reward / Penalty\n",
    "    reward_prob = env.reward_probability(yes_count)\n",
    "    \n",
    "    # Loop through the automata and reward or penalize them\n",
    "    for automaton in automata:\n",
    "        if random.random() <= reward_prob:\n",
    "            automaton.reward()\n",
    "        else:\n",
    "            automaton.penalize()\n",
    "    \n",
    "    # Record states for each automaton\n",
    "    for index, automaton in enumerate(automata):\n",
    "        states_over_time.append({\n",
    "            'Iteration': i,\n",
    "            'Automaton': index,\n",
    "            'State': automaton.state\n",
    "        })"
   ]
  },
  {
   "cell_type": "markdown",
   "metadata": {},
   "source": [
    "## Visualization"
   ]
  },
  {
   "cell_type": "markdown",
   "metadata": {},
   "source": [
    "### Static plots"
   ]
  },
  {
   "cell_type": "code",
   "execution_count": 9,
   "metadata": {},
   "outputs": [
    {
     "data": {
      "text/html": [
       "<a href=\"/home/jon/projects/ikt457/assignments/goore_game/results/yes_actions_per_automaton_5_300.png\" target=\"_blank\">Click here to view the plot: /home/jon/projects/ikt457/assignments/goore_game/results/yes_actions_per_automaton_5_300.png</a>"
      ],
      "text/plain": [
       "<IPython.core.display.HTML object>"
      ]
     },
     "metadata": {},
     "output_type": "display_data"
    },
    {
     "data": {
      "text/plain": [
       "<Figure size 1000x600 with 0 Axes>"
      ]
     },
     "metadata": {},
     "output_type": "display_data"
    }
   ],
   "source": [
    "plt.figure(figsize=(10, 6))\n",
    "automaton_labels = [f'Automaton {i+1}' for i in range(n_ta)]\n",
    "plt.bar(automaton_labels, yes_counts, color='skyblue')\n",
    "plt.xlabel('Automaton')\n",
    "plt.ylabel('Number of \"Yes\" Actions')\n",
    "plt.title('Number of \"Yes\" Actions per Automaton')\n",
    "\n",
    "save_and_link_plot(plt, f\"{paths['PATH_1_LEARNING_AUTOMATA_GAME']}/results/yes_actions_per_automaton_{n_ta}_{n_iterations}.png\")"
   ]
  },
  {
   "cell_type": "code",
   "execution_count": 10,
   "metadata": {},
   "outputs": [
    {
     "data": {
      "text/html": [
       "<a href=\"/home/jon/projects/ikt457/assignments/goore_game/results/automaton_states_over_time_5_300.png\" target=\"_blank\">Click here to view the plot: /home/jon/projects/ikt457/assignments/goore_game/results/automaton_states_over_time_5_300.png</a>"
      ],
      "text/plain": [
       "<IPython.core.display.HTML object>"
      ]
     },
     "metadata": {},
     "output_type": "display_data"
    },
    {
     "data": {
      "text/plain": [
       "<Figure size 1200x600 with 0 Axes>"
      ]
     },
     "metadata": {},
     "output_type": "display_data"
    }
   ],
   "source": [
    "plt.figure(figsize=(12, 6))\n",
    "for automaton_index in range(n_ta):\n",
    "    automaton_states = [state['State'] for state in states_over_time if state['Automaton'] == automaton_index]\n",
    "    plt.plot(range(len(automaton_states)), automaton_states, label=f'Automaton {automaton_index}')\n",
    "plt.xlabel('Iteration')\n",
    "plt.ylabel('State')\n",
    "plt.title('State of Each Tsetlin Automaton Over Time')\n",
    "plt.legend()\n",
    "\n",
    "save_and_link_plot(plt, f\"{paths['PATH_1_LEARNING_AUTOMATA_GAME']}/results/automaton_states_over_time_{n_ta}_{n_iterations}.png\")\n"
   ]
  },
  {
   "cell_type": "code",
   "execution_count": 11,
   "metadata": {},
   "outputs": [
    {
     "data": {
      "text/html": [
       "<a href=\"/home/jon/projects/ikt457/assignments/goore_game/results/automaton_states_heatmap_5_300.png\" target=\"_blank\">Click here to view the plot: /home/jon/projects/ikt457/assignments/goore_game/results/automaton_states_heatmap_5_300.png</a>"
      ],
      "text/plain": [
       "<IPython.core.display.HTML object>"
      ]
     },
     "metadata": {},
     "output_type": "display_data"
    },
    {
     "data": {
      "text/plain": [
       "<Figure size 1200x600 with 0 Axes>"
      ]
     },
     "metadata": {},
     "output_type": "display_data"
    }
   ],
   "source": [
    "# Create a matrix of states\n",
    "state_matrix = np.zeros((n_iterations, n_ta))\n",
    "\n",
    "for state in states_over_time:\n",
    "    iteration = state['Iteration']\n",
    "    automaton = state['Automaton']\n",
    "    state_matrix[iteration, automaton] = state['State']\n",
    "\n",
    "plt.figure(figsize=(12, 6))\n",
    "sns.heatmap(state_matrix, cmap='Blues', cbar_kws={'label': 'State'})\n",
    "plt.xlabel('Automaton')\n",
    "plt.ylabel('Iteration')\n",
    "plt.title('Heatmap of Automaton States Over Time')\n",
    "\n",
    "save_and_link_plot(plt, f\"{paths['PATH_1_LEARNING_AUTOMATA_GAME']}/results/automaton_states_heatmap_{n_ta}_{n_iterations}.png\")\n"
   ]
  },
  {
   "cell_type": "code",
   "execution_count": 12,
   "metadata": {},
   "outputs": [
    {
     "data": {
      "text/html": [
       "<a href=\"/home/jon/projects/ikt457/assignments/goore_game/results/automaton_states_boxplot_5_300.png\" target=\"_blank\">Click here to view the plot: /home/jon/projects/ikt457/assignments/goore_game/results/automaton_states_boxplot_5_300.png</a>"
      ],
      "text/plain": [
       "<IPython.core.display.HTML object>"
      ]
     },
     "metadata": {},
     "output_type": "display_data"
    },
    {
     "data": {
      "text/plain": [
       "<Figure size 1200x600 with 0 Axes>"
      ]
     },
     "metadata": {},
     "output_type": "display_data"
    }
   ],
   "source": [
    "# Convert to DataFrame for plotting\n",
    "df_states = pd.DataFrame(states_over_time)\n",
    "\n",
    "plt.figure(figsize=(12, 6))\n",
    "sns.boxplot(x='Iteration', y='State', data=df_states)\n",
    "plt.xlabel('Iteration')\n",
    "plt.ylabel('State')\n",
    "plt.title('Box Plot of States of Tsetlin Automata Over Time')\n",
    "\n",
    "save_and_link_plot(plt, f\"{paths['PATH_1_LEARNING_AUTOMATA_GAME']}/results/automaton_states_boxplot_{n_ta}_{n_iterations}.png\")"
   ]
  },
  {
   "cell_type": "code",
   "execution_count": 13,
   "metadata": {},
   "outputs": [
    {
     "data": {
      "text/html": [
       "<a href=\"/home/jon/projects/ikt457/assignments/goore_game/results/automaton_states_scatter_5_300.png\" target=\"_blank\">Click here to view the plot: /home/jon/projects/ikt457/assignments/goore_game/results/automaton_states_scatter_5_300.png</a>"
      ],
      "text/plain": [
       "<IPython.core.display.HTML object>"
      ]
     },
     "metadata": {},
     "output_type": "display_data"
    },
    {
     "data": {
      "text/plain": [
       "<Figure size 1200x600 with 0 Axes>"
      ]
     },
     "metadata": {},
     "output_type": "display_data"
    }
   ],
   "source": [
    "plt.figure(figsize=(12, 6))\n",
    "for automaton_index in range(n_ta):\n",
    "    automaton_states = [state['State'] for state in states_over_time if state['Automaton'] == automaton_index]\n",
    "    plt.scatter(range(len(automaton_states)), automaton_states, label=f'Automaton {automaton_index}')\n",
    "plt.xlabel('Iteration')\n",
    "plt.ylabel('State')\n",
    "plt.title('Scatter Plot of State Changes for Each Tsetlin Automaton')\n",
    "plt.legend()\n",
    "\n",
    "save_and_link_plot(plt, f\"{paths['PATH_1_LEARNING_AUTOMATA_GAME']}/results/automaton_states_scatter_{n_ta}_{n_iterations}.png\")\n"
   ]
  },
  {
   "cell_type": "markdown",
   "metadata": {},
   "source": [
    "### 3D plots"
   ]
  },
  {
   "cell_type": "code",
   "execution_count": 14,
   "metadata": {},
   "outputs": [
    {
     "data": {
      "text/html": [
       "<a href=\"/home/jon/projects/ikt457/assignments/goore_game/results/automaton_states_3d_5_300.png\" target=\"_blank\">Click here to view the plot: /home/jon/projects/ikt457/assignments/goore_game/results/automaton_states_3d_5_300.png</a>"
      ],
      "text/plain": [
       "<IPython.core.display.HTML object>"
      ]
     },
     "metadata": {},
     "output_type": "display_data"
    },
    {
     "data": {
      "text/plain": [
       "<Figure size 1200x800 with 0 Axes>"
      ]
     },
     "metadata": {},
     "output_type": "display_data"
    }
   ],
   "source": [
    "from mpl_toolkits.mplot3d import Axes3D\n",
    "\n",
    "# Prepare data for 3D line plot\n",
    "iterations = range(n_iterations)\n",
    "automaton_indices = range(n_ta)\n",
    "states_matrix = np.zeros((n_iterations, n_ta))\n",
    "\n",
    "for i in range(n_iterations):\n",
    "    for j in range(n_ta):\n",
    "        states_matrix[i, j] = automata[j].state\n",
    "\n",
    "# Create a 3D plot\n",
    "fig = plt.figure(figsize=(12, 8))\n",
    "ax = fig.add_subplot(111, projection='3d')\n",
    "\n",
    "# Plotting each automaton's state over time\n",
    "for j in automaton_indices:\n",
    "    ax.plot(iterations, [j]*n_iterations, states_matrix[:, j], label=f'Automaton {j+1}')\n",
    "\n",
    "ax.set_xlabel('Iteration')\n",
    "ax.set_ylabel('Automaton')\n",
    "ax.set_zlabel('State')\n",
    "ax.set_title('3D Visualization of Automaton States Over Time')\n",
    "plt.legend()\n",
    "\n",
    "save_and_link_plot(plt, f\"{paths['PATH_1_LEARNING_AUTOMATA_GAME']}/results/automaton_states_3d_{n_ta}_{n_iterations}.png\")\n"
   ]
  },
  {
   "cell_type": "code",
   "execution_count": 15,
   "metadata": {},
   "outputs": [
    {
     "data": {
      "text/html": [
       "<a href=\"/home/jon/projects/ikt457/assignments/goore_game/results/automaton_states_surface_5_300.png\" target=\"_blank\">Click here to view the plot: /home/jon/projects/ikt457/assignments/goore_game/results/automaton_states_surface_5_300.png</a>"
      ],
      "text/plain": [
       "<IPython.core.display.HTML object>"
      ]
     },
     "metadata": {},
     "output_type": "display_data"
    },
    {
     "data": {
      "text/plain": [
       "<Figure size 1200x800 with 0 Axes>"
      ]
     },
     "metadata": {},
     "output_type": "display_data"
    }
   ],
   "source": [
    "# Create a 3D surface plot\n",
    "fig = plt.figure(figsize=(12, 8))\n",
    "ax = fig.add_subplot(111, projection='3d')\n",
    "\n",
    "X, Y = np.meshgrid(iterations, automaton_indices)\n",
    "Z = states_matrix.T\n",
    "\n",
    "ax.plot_surface(X, Y, Z, cmap='viridis')\n",
    "\n",
    "ax.set_xlabel('Iteration')\n",
    "ax.set_ylabel('Automaton')\n",
    "ax.set_zlabel('State')\n",
    "ax.set_title('3D Surface Plot of Automaton States Over Time')\n",
    "\n",
    "save_and_link_plot(plt, f\"{paths['PATH_1_LEARNING_AUTOMATA_GAME']}/results/automaton_states_surface_{n_ta}_{n_iterations}.png\")\n"
   ]
  },
  {
   "cell_type": "markdown",
   "metadata": {},
   "source": [
    "### Gif's"
   ]
  },
  {
   "cell_type": "code",
   "execution_count": 16,
   "metadata": {},
   "outputs": [
    {
     "data": {
      "text/html": [
       "<a href=\"/home/jon/projects/ikt457/assignments/goore_game/results/tsetlin_automaton_development_5_300.gif\" target=\"_blank\">Click here to view the GIF: /home/jon/projects/ikt457/assignments/goore_game/results/tsetlin_automaton_development_5_300.gif</a>"
      ],
      "text/plain": [
       "<IPython.core.display.HTML object>"
      ]
     },
     "metadata": {},
     "output_type": "display_data"
    }
   ],
   "source": [
    "# Define the bar plot update function\n",
    "def update_bar(num, yes_counts_over_time):\n",
    "    plt.clf()  # Clear the current figure\n",
    "    automaton_labels = [f'Automaton {i+1}' for i in range(n_ta)]\n",
    "    plt.bar(automaton_labels, yes_counts_over_time[num], color='skyblue')\n",
    "    plt.xlabel('Automaton')\n",
    "    plt.ylabel('Number of \"Yes\" Actions')\n",
    "    plt.title(f'Number of \"Yes\" Actions per Automaton (Iteration {num+1})')\n",
    "    plt.ylim(0, max(max(yes_counts_over_time))+1)\n",
    "\n",
    "# Create the figure and bar plot\n",
    "fig = plt.figure(figsize=(10, 6))\n",
    "\n",
    "# Create the animation object\n",
    "bar_animation = animation.FuncAnimation(fig, update_bar, frames=len(yes_counts_over_time), fargs=(yes_counts_over_time,), interval=50)\n",
    "\n",
    "# Save the animation as a GIF\n",
    "save_and_link_gif(bar_animation, f\"{paths['PATH_1_LEARNING_AUTOMATA_GAME']}/results/yes_actions_per_automaton_{n_ta}_{n_iterations}.gif\")\n",
    "\n"
   ]
  },
  {
   "cell_type": "code",
   "execution_count": 17,
   "metadata": {},
   "outputs": [
    {
     "data": {
      "text/html": [
       "<a href=\"/home/jon/projects/ikt457/assignments/goore_game/results/cumulative_yes_actions_5_300.gif\" target=\"_blank\">Click here to view the GIF: /home/jon/projects/ikt457/assignments/goore_game/results/cumulative_yes_actions_5_300.gif</a>"
      ],
      "text/plain": [
       "<IPython.core.display.HTML object>"
      ]
     },
     "metadata": {},
     "output_type": "display_data"
    }
   ],
   "source": [
    "# Define the line plot update function\n",
    "def update_line(num, yes_counts_over_time):\n",
    "    plt.clf()  # Clear the current figure\n",
    "    for i in range(n_ta):\n",
    "        automaton_counts = [counts[i] for counts in yes_counts_over_time[:num+1]]\n",
    "        plt.plot(range(num+1), automaton_counts, label=f'Automaton {i+1}')\n",
    "    plt.xlabel('Iteration')\n",
    "    plt.ylabel('Cumulative \"Yes\" Actions')\n",
    "    plt.title(f'Cumulative \"Yes\" Actions Over Time (Iteration {num+1})')\n",
    "    plt.legend(loc='upper left')\n",
    "    plt.ylim(0, 1.5 * max(max(yes_counts_over_time))+1)\n",
    "\n",
    "# Create the figure and plot\n",
    "fig = plt.figure(figsize=(10, 6))\n",
    "\n",
    "# Create the animation object\n",
    "line_animation = animation.FuncAnimation(fig, update_line, frames=len(yes_counts_over_time), fargs=(yes_counts_over_time,), interval=50)\n",
    "\n",
    "# Save the animation as a GIF\n",
    "save_and_link_gif(line_animation, f\"{paths['PATH_1_LEARNING_AUTOMATA_GAME']}/results/cumulative_yes_actions_{n_ta}_{n_iterations}.gif\")\n"
   ]
  },
  {
   "cell_type": "code",
   "execution_count": 18,
   "metadata": {},
   "outputs": [
    {
     "data": {
      "text/html": [
       "<a href=\"/home/jon/projects/ikt457/assignments/goore_game/results/state_heatmap_5_300.gif\" target=\"_blank\">Click here to view the GIF: /home/jon/projects/ikt457/assignments/goore_game/results/state_heatmap_5_300.gif</a>"
      ],
      "text/plain": [
       "<IPython.core.display.HTML object>"
      ]
     },
     "metadata": {},
     "output_type": "display_data"
    }
   ],
   "source": [
    "# Prepare data for the heatmap\n",
    "state_matrix = np.zeros((n_iterations, n_ta))\n",
    "\n",
    "for state in states_over_time:\n",
    "    iteration = state['Iteration']\n",
    "    automaton = state['Automaton']\n",
    "    state_matrix[iteration, automaton] = state['State']\n",
    "\n",
    "# Define the heatmap update function\n",
    "def update_heatmap(num, state_matrix):\n",
    "    plt.clf()  # Clear the current figure\n",
    "    sns.heatmap(state_matrix[:num+1, :], cmap='viridis', cbar=True)\n",
    "    plt.xlabel('Automaton')\n",
    "    plt.ylabel('Iteration')\n",
    "    plt.title(f'State Heatmap of Automata (Iteration {num+1})')\n",
    "\n",
    "# Create the figure and plot\n",
    "fig = plt.figure(figsize=(10, 6))\n",
    "\n",
    "# Create the animation object\n",
    "heatmap_animation = animation.FuncAnimation(fig, update_heatmap, frames=n_iterations, fargs=(state_matrix,), interval=50)\n",
    "\n",
    "# Save the animation as a GIF\n",
    "save_and_link_gif(heatmap_animation, f\"{paths['PATH_1_LEARNING_AUTOMATA_GAME']}/results/state_heatmap_{n_ta}_{n_iterations}.gif\")\n"
   ]
  }
 ],
 "metadata": {
  "kernelspec": {
   "display_name": "env",
   "language": "python",
   "name": "python3"
  },
  "language_info": {
   "codemirror_mode": {
    "name": "ipython",
    "version": 3
   },
   "file_extension": ".py",
   "mimetype": "text/x-python",
   "name": "python",
   "nbconvert_exporter": "python",
   "pygments_lexer": "ipython3",
   "version": "3.10.12"
  }
 },
 "nbformat": 4,
 "nbformat_minor": 2
}
